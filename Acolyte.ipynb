{
 "cells": [
  {
   "cell_type": "code",
   "execution_count": 11,
   "id": "55d76aeb",
   "metadata": {},
   "outputs": [],
   "source": [
    "import json\n",
    "import pandas as pd"
   ]
  },
  {
   "cell_type": "code",
   "execution_count": 12,
   "id": "7ce1af4b",
   "metadata": {},
   "outputs": [],
   "source": [
    "data = pd.read_csv(r'MS_DATASET.csv')"
   ]
  },
  {
   "cell_type": "code",
   "execution_count": 13,
   "id": "b24fc925",
   "metadata": {},
   "outputs": [
    {
     "data": {
      "text/html": [
       "<div>\n",
       "<style scoped>\n",
       "    .dataframe tbody tr th:only-of-type {\n",
       "        vertical-align: middle;\n",
       "    }\n",
       "\n",
       "    .dataframe tbody tr th {\n",
       "        vertical-align: top;\n",
       "    }\n",
       "\n",
       "    .dataframe thead th {\n",
       "        text-align: right;\n",
       "    }\n",
       "</style>\n",
       "<table border=\"1\" class=\"dataframe\">\n",
       "  <thead>\n",
       "    <tr style=\"text-align: right;\">\n",
       "      <th></th>\n",
       "      <th>APP_ID</th>\n",
       "      <th>APP_NAME</th>\n",
       "      <th>SCORE</th>\n",
       "      <th>LINK</th>\n",
       "      <th>KEYWORDS</th>\n",
       "    </tr>\n",
       "  </thead>\n",
       "  <tbody>\n",
       "    <tr>\n",
       "      <th>0</th>\n",
       "      <td>1</td>\n",
       "      <td>Access (PC only)</td>\n",
       "      <td>1.1</td>\n",
       "      <td>https://support.microsoft.com/en-us/office/dow...</td>\n",
       "      <td>management|report|dbms|data</td>\n",
       "    </tr>\n",
       "    <tr>\n",
       "      <th>1</th>\n",
       "      <td>2</td>\n",
       "      <td>Advanced Threat Analytics</td>\n",
       "      <td>1.1</td>\n",
       "      <td>https://www.microsoft.com/en-us/download/detai...</td>\n",
       "      <td>defence|protection|threat|security|analytics</td>\n",
       "    </tr>\n",
       "    <tr>\n",
       "      <th>2</th>\n",
       "      <td>3</td>\n",
       "      <td>Bookings</td>\n",
       "      <td>1.1</td>\n",
       "      <td>https://www.microsoft.com/en-us/microsoft-365/...</td>\n",
       "      <td>schedule-meetings|bookings|company|appointment...</td>\n",
       "    </tr>\n",
       "    <tr>\n",
       "      <th>3</th>\n",
       "      <td>4</td>\n",
       "      <td>Cloud App Security</td>\n",
       "      <td>1.1</td>\n",
       "      <td>https://techcommunity.microsoft.com/t5/itops-t...</td>\n",
       "      <td>defence|protection|threat|security|cloud</td>\n",
       "    </tr>\n",
       "    <tr>\n",
       "      <th>4</th>\n",
       "      <td>5</td>\n",
       "      <td>Defender (MSFT 365)</td>\n",
       "      <td>1.1</td>\n",
       "      <td>https://www.microsoft.com/en-us/security/busin...</td>\n",
       "      <td>defence|protection|threat|security|suite</td>\n",
       "    </tr>\n",
       "  </tbody>\n",
       "</table>\n",
       "</div>"
      ],
      "text/plain": [
       "   APP_ID                    APP_NAME  SCORE  \\\n",
       "0       1            Access (PC only)    1.1   \n",
       "1       2  Advanced Threat Analytics     1.1   \n",
       "2       3                    Bookings    1.1   \n",
       "3       4          Cloud App Security    1.1   \n",
       "4       5         Defender (MSFT 365)    1.1   \n",
       "\n",
       "                                                LINK  \\\n",
       "0  https://support.microsoft.com/en-us/office/dow...   \n",
       "1  https://www.microsoft.com/en-us/download/detai...   \n",
       "2  https://www.microsoft.com/en-us/microsoft-365/...   \n",
       "3  https://techcommunity.microsoft.com/t5/itops-t...   \n",
       "4  https://www.microsoft.com/en-us/security/busin...   \n",
       "\n",
       "                                            KEYWORDS  \n",
       "0                        management|report|dbms|data  \n",
       "1       defence|protection|threat|security|analytics  \n",
       "2  schedule-meetings|bookings|company|appointment...  \n",
       "3           defence|protection|threat|security|cloud  \n",
       "4           defence|protection|threat|security|suite  "
      ]
     },
     "execution_count": 13,
     "metadata": {},
     "output_type": "execute_result"
    }
   ],
   "source": [
    "data.head()"
   ]
  },
  {
   "cell_type": "code",
   "execution_count": 14,
   "id": "cf821031",
   "metadata": {},
   "outputs": [],
   "source": [
    "df = data[['KEYWORDS', 'APP_NAME', 'SCORE', 'LINK']].copy()"
   ]
  },
  {
   "cell_type": "code",
   "execution_count": 15,
   "id": "4568d05e",
   "metadata": {},
   "outputs": [],
   "source": [
    "app_names = [df.loc[i]['KEYWORDS'].split('|') for i in df.index]"
   ]
  },
  {
   "cell_type": "code",
   "execution_count": 16,
   "id": "83cf38c1",
   "metadata": {},
   "outputs": [],
   "source": [
    "keywords = sorted(list(set([item for sublist in app_names for item in sublist])))"
   ]
  },
  {
   "cell_type": "code",
   "execution_count": 17,
   "id": "fef12c60",
   "metadata": {},
   "outputs": [
    {
     "data": {
      "text/plain": [
       "['analytics',\n",
       " 'animations',\n",
       " 'appointments',\n",
       " 'automate-content-processing',\n",
       " 'automating-processes',\n",
       " 'blank-canvas',\n",
       " 'blogs',\n",
       " 'bookings',\n",
       " 'branding',\n",
       " 'browsing',\n",
       " 'business',\n",
       " 'calendar',\n",
       " 'charting',\n",
       " 'cloud',\n",
       " 'collaboration',\n",
       " 'communications',\n",
       " 'company',\n",
       " 'connection',\n",
       " 'content',\n",
       " 'content-classification',\n",
       " 'control',\n",
       " 'conversation',\n",
       " 'creative-writing',\n",
       " 'custom-apps',\n",
       " 'daily-planner',\n",
       " 'data',\n",
       " 'data-analysis',\n",
       " 'data-grading',\n",
       " 'dbms',\n",
       " 'defence',\n",
       " 'diagrams',\n",
       " 'documentation',\n",
       " 'dynamic-storage',\n",
       " 'employee',\n",
       " 'endpoint',\n",
       " 'enterprise',\n",
       " 'family safety',\n",
       " 'files',\n",
       " 'format',\n",
       " 'freestyle-writin',\n",
       " 'graphics',\n",
       " 'identity',\n",
       " 'kids mode',\n",
       " 'large-group-discussion',\n",
       " 'letters',\n",
       " 'machine-learning-models',\n",
       " 'mail',\n",
       " 'management',\n",
       " 'mobile',\n",
       " 'online-meetings',\n",
       " 'operating-systems',\n",
       " 'organisation',\n",
       " 'personal-task',\n",
       " 'presentation',\n",
       " 'productivity',\n",
       " 'progress',\n",
       " 'protection',\n",
       " 'publish',\n",
       " 'reminders',\n",
       " 'report',\n",
       " 'save-photos',\n",
       " 'schedule-meetings',\n",
       " 'scheduling-emails',\n",
       " 'security',\n",
       " 'services',\n",
       " 'set-task',\n",
       " 'small-group',\n",
       " 'suite',\n",
       " 'threat',\n",
       " 'vba',\n",
       " 'video',\n",
       " 'video-calling',\n",
       " 'virtual-machine',\n",
       " 'web-clipper']"
      ]
     },
     "execution_count": 17,
     "metadata": {},
     "output_type": "execute_result"
    }
   ],
   "source": [
    "keywords"
   ]
  },
  {
   "cell_type": "code",
   "execution_count": 18,
   "id": "ad2e52b3",
   "metadata": {},
   "outputs": [],
   "source": [
    "full_data = list()\n",
    "app_titles = list()"
   ]
  },
  {
   "cell_type": "code",
   "execution_count": 19,
   "id": "c751fffc",
   "metadata": {},
   "outputs": [],
   "source": [
    "for i in df.index:\n",
    "    app_titles.append((df.loc[i]['APP_NAME'].strip(), i, df.loc[i]['LINK'].strip()))\n",
    "    app_data = [1 if genre in df.loc[i]['KEYWORDS'].split('|') else 0 for genre in keywords]\n",
    "    app_data.append(df.loc[i]['SCORE'])\n",
    "    full_data.append(app_data)"
   ]
  },
  {
   "cell_type": "code",
   "execution_count": 20,
   "id": "1cb6e870",
   "metadata": {},
   "outputs": [],
   "source": [
    "data_dump = r'data.json'\n",
    "names_dump = r'names.json'\n",
    "with open(data_dump, 'w+', encoding='utf-8') as f:\n",
    "    json.dump(full_data, f)\n",
    "with open(names_dump, 'w+', encoding='utf-8') as f:\n",
    "    json.dump(app_titles, f)"
   ]
  },
  {
   "cell_type": "code",
   "execution_count": null,
   "id": "d7aa9009",
   "metadata": {},
   "outputs": [],
   "source": []
  }
 ],
 "metadata": {
  "kernelspec": {
   "display_name": "Python 3 (ipykernel)",
   "language": "python",
   "name": "python3"
  },
  "language_info": {
   "codemirror_mode": {
    "name": "ipython",
    "version": 3
   },
   "file_extension": ".py",
   "mimetype": "text/x-python",
   "name": "python",
   "nbconvert_exporter": "python",
   "pygments_lexer": "ipython3",
   "version": "3.9.7"
  }
 },
 "nbformat": 4,
 "nbformat_minor": 5
}
